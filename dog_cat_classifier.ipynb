{
 "cells": [
  {
   "cell_type": "code",
   "execution_count": 13,
   "metadata": {},
   "outputs": [],
   "source": [
    "# Import Libraries\n",
    "import numpy as np\n",
    "import pandas as pd\n",
    "import matplotlib.pyplot as plt\n",
    "import seaborn as sns\n",
    "import cv2 \n",
    "from skimage.feature import hog \n",
    "\n",
    "\n",
    "from tensorflow.keras.applications import VGG16\n",
    "from tensorflow.keras.applications.vgg16 import preprocess_input\n",
    "from tensorflow.keras.preprocessing.image import img_to_array, load_img\n",
    "from tensorflow.keras.models import Model\n",
    "\n",
    "# Load the data\n",
    "image = cv2.imread(\"../dog_cat_images/dog_1.jpg\")   \n",
    "\n"
   ]
  },
  {
   "cell_type": "code",
   "execution_count": 17,
   "metadata": {},
   "outputs": [
    {
     "name": "stdout",
     "output_type": "stream",
     "text": [
      "\u001b[1m1/1\u001b[0m \u001b[32m━━━━━━━━━━━━━━━━━━━━\u001b[0m\u001b[37m\u001b[0m \u001b[1m1s\u001b[0m 755ms/step\n",
      "Feature shape: (1, 7, 7, 512)\n"
     ]
    }
   ],
   "source": [
    "# Load pre-trained VGG16 model\n",
    "model = VGG16(weights='imagenet', include_top=False)\n",
    "\n",
    "# Load and preprocess the image\n",
    "#image = load_img('path_to_image.jpg', target_size=(224, 224))\n",
    "image = load_img(\"./dog_cat_images/dog_1.jpg\", target_size=(224, 224)) \n",
    "image = img_to_array(image)\n",
    "image = np.expand_dims(image, axis=0)\n",
    "image = preprocess_input(image)\n",
    "\n",
    "# Extract features\n",
    "features = model.predict(image)\n",
    "print(\"Feature shape:\", features.shape)"
   ]
  },
  {
   "cell_type": "code",
   "execution_count": 19,
   "metadata": {},
   "outputs": [
    {
     "name": "stdout",
     "output_type": "stream",
     "text": [
      "[[[[-0.        -0.        -0.        ... -0.        -0.\n",
      "    -0.       ]\n",
      "   [-0.        -0.        -0.        ... -0.        -0.\n",
      "    -0.       ]\n",
      "   [-0.        -0.        -0.        ... -0.        -0.\n",
      "    -0.       ]\n",
      "   ...\n",
      "   [-0.        -0.        -0.        ... -0.        -0.\n",
      "    -0.       ]\n",
      "   [-0.        -0.        -0.        ... -0.        -0.\n",
      "    -0.       ]\n",
      "   [-0.        -0.        -0.        ... -0.        -0.\n",
      "    -0.       ]]\n",
      "\n",
      "  [[-0.        -0.        -0.        ... -0.        -0.\n",
      "    -0.       ]\n",
      "   [-0.        -0.        -0.        ... -0.         1.9025307\n",
      "    -0.       ]\n",
      "   [-0.        -0.        51.85024   ... -0.        -0.\n",
      "    -0.       ]\n",
      "   ...\n",
      "   [-0.        -0.         8.865101  ... 21.23467   27.38241\n",
      "     9.604157 ]\n",
      "   [-0.        -0.        -0.        ... -0.        27.752089\n",
      "    -0.       ]\n",
      "   [-0.        -0.        -0.        ... -0.        11.10841\n",
      "    -0.       ]]\n",
      "\n",
      "  [[-0.        -0.        -0.        ... -0.        -0.\n",
      "    -0.       ]\n",
      "   [-0.        -0.        -0.        ... -0.        -0.\n",
      "    -0.       ]\n",
      "   [-0.        59.835655  70.98212   ... -0.        -0.\n",
      "    -0.       ]\n",
      "   ...\n",
      "   [-0.        -0.        10.154822  ... 41.374695   7.4079547\n",
      "    -0.       ]\n",
      "   [-0.        -0.        -0.        ... -0.        10.206072\n",
      "    -0.       ]\n",
      "   [-0.        -0.        -0.        ... -0.        25.227787\n",
      "    -0.       ]]\n",
      "\n",
      "  ...\n",
      "\n",
      "  [[-0.        -0.        -0.        ... -0.        -0.\n",
      "    -0.       ]\n",
      "   [-0.        -0.        -0.        ... -0.        -0.\n",
      "    -0.       ]\n",
      "   [-0.        -0.        -0.        ... 33.816547  -0.\n",
      "    57.62541  ]\n",
      "   ...\n",
      "   [-0.        -0.        -0.        ... 50.615734   6.9964776\n",
      "    46.19167  ]\n",
      "   [-0.        -0.        -0.        ... -0.        -0.\n",
      "    -0.       ]\n",
      "   [-0.        -0.        -0.        ... -0.        -0.\n",
      "    -0.       ]]\n",
      "\n",
      "  [[-0.        -0.        -0.        ... -0.        -0.\n",
      "    -0.       ]\n",
      "   [-0.        -0.        -0.        ... -0.        -0.\n",
      "    -0.       ]\n",
      "   [-0.        -0.         0.3239624 ... 52.433357  -0.\n",
      "    38.122128 ]\n",
      "   ...\n",
      "   [-0.        -0.        -0.        ... 82.84082   -0.\n",
      "    11.102622 ]\n",
      "   [-0.        -0.        -0.        ... -0.        -0.\n",
      "    -0.       ]\n",
      "   [-0.        -0.        -0.        ... -0.        -0.\n",
      "    -0.       ]]\n",
      "\n",
      "  [[-0.        -0.        -0.        ... -0.        -0.\n",
      "    -0.       ]\n",
      "   [-0.        -0.        -0.        ... -0.        -0.\n",
      "    -0.       ]\n",
      "   [-0.        -0.        -0.        ... -0.        -0.\n",
      "    -0.       ]\n",
      "   ...\n",
      "   [-0.        -0.         1.570014  ... 24.91862   -0.\n",
      "    -0.       ]\n",
      "   [-0.        -0.        -0.        ... -0.        -0.\n",
      "    -0.       ]\n",
      "   [-0.        -0.        -0.        ... -0.        -0.\n",
      "    -0.       ]]]]\n"
     ]
    }
   ],
   "source": [
    "print(features)"
   ]
  }
 ],
 "metadata": {
  "kernelspec": {
   "display_name": "myenv",
   "language": "python",
   "name": "python3"
  },
  "language_info": {
   "codemirror_mode": {
    "name": "ipython",
    "version": 3
   },
   "file_extension": ".py",
   "mimetype": "text/x-python",
   "name": "python",
   "nbconvert_exporter": "python",
   "pygments_lexer": "ipython3",
   "version": "3.11.9"
  }
 },
 "nbformat": 4,
 "nbformat_minor": 2
}
